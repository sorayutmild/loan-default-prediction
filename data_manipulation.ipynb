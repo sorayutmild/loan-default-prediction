{
 "cells": [
  {
   "cell_type": "code",
   "execution_count": null,
   "metadata": {},
   "outputs": [],
   "source": [
    "from dataset import MysqlIO\n",
    "import pandas as pd\n",
    "import pandas_profiling as pp\n",
    "from IPython.display import display\n",
    "import numpy as np\n",
    "import matplotlib.pyplot as plt\n",
    "\n",
    "%matplotlib inline"
   ]
  },
  {
   "cell_type": "code",
   "execution_count": null,
   "metadata": {},
   "outputs": [],
   "source": [
    "db = MysqlIO(host='relational.fit.cvut.cz', \n",
    "            database='financial', \n",
    "            user='guest', \n",
    "            password='relational')"
   ]
  },
  {
   "cell_type": "code",
   "execution_count": null,
   "metadata": {},
   "outputs": [],
   "source": [
    "db.execute('SHOW TABLES')"
   ]
  },
  {
   "cell_type": "code",
   "execution_count": null,
   "metadata": {},
   "outputs": [],
   "source": [
    "loan_df = db.execute_to_df('SELECT * FROM loan')\n",
    "order_df = db.execute_to_df('SELECT * FROM `order`')\n",
    "trans_df = db.execute_to_df('''\n",
    "    SELECT * FROM trans WHERE account_id IN \n",
    "    (SELECT account_id FROM loan)\n",
    "   ''')\n",
    "disp_df = db.execute_to_df('SELECT * FROM disp')\n",
    "account_df = db.execute_to_df('SELECT * FROM account')\n",
    "client_df = db.execute_to_df('SELECT * FROM client')\n",
    "card_df = db.execute_to_df('SELECT * FROM card')\n",
    "district_df = db.execute_to_df('SELECT * FROM district')"
   ]
  },
  {
   "cell_type": "code",
   "execution_count": null,
   "metadata": {},
   "outputs": [],
   "source": [
    "def summary_df(df, table_name=''):\n",
    "    print(table_name)\n",
    "    print(df.shape)\n",
    "    display(df.head())\n",
    "    print('missing value')\n",
    "    display(df.isnull().sum())"
   ]
  },
  {
   "cell_type": "code",
   "execution_count": null,
   "metadata": {},
   "outputs": [],
   "source": [
    "summary_df(loan_df, \"loan\")\n",
    "summary_df(order_df, \"order\")\n",
    "summary_df(trans_df, \"trans\")\n",
    "summary_df(disp_df, \"disp\")\n",
    "summary_df(account_df, \"account\")\n",
    "summary_df(client_df, \"client\")\n",
    "summary_df(card_df, \"card\")\n",
    "summary_df(district_df, \"district\")"
   ]
  },
  {
   "cell_type": "markdown",
   "metadata": {},
   "source": [
    "1 client can have multiple accounts.\n",
    "Also, 1 account can have multiple clients (owner, desponent)."
   ]
  },
  {
   "cell_type": "code",
   "execution_count": null,
   "metadata": {},
   "outputs": [],
   "source": [
    "print(loan_df['account_id'].is_unique)\n",
    "print(account_df['account_id'].is_unique)\n",
    "print(disp_df['account_id'].is_unique)"
   ]
  },
  {
   "cell_type": "markdown",
   "metadata": {},
   "source": [
    "# Data manipulation"
   ]
  },
  {
   "cell_type": "code",
   "execution_count": null,
   "metadata": {},
   "outputs": [],
   "source": [
    "def add_prefix_to_colnames(df, prefix, fixed_col_name='account_id'):\n",
    "    df = df.add_prefix(prefix)\n",
    "    df = df.rename(index=str, columns={prefix+fixed_col_name : fixed_col_name})\n",
    "    return df\n",
    "\n",
    "def percentile(n):\n",
    "    def percentile_(x):\n",
    "        return np.percentile(x, n)\n",
    "    percentile_.__name__ = 'pct_%s' % n\n",
    "    return percentile_\n",
    "\n",
    "def onehot(df, col_name, prefix=None, drop=True):\n",
    "    df = df.join(pd.get_dummies(df[col_name], prefix=prefix))\n",
    "    if drop:\n",
    "        df = df.drop([col_name], axis=1)\n",
    "    return df\n",
    "\n",
    "def summary_group_cate_data(main_df, add_df, col_names=list, how='left', on=['account_id'], validate='one_to_many', by=\"account_id\"):\n",
    "    t = pd.merge(main_df, add_df, how=how, on=on, validate=validate)\n",
    "    t = t.groupby(by=by, as_index=False)[col_names].sum()\n",
    "    return t\n",
    "\n",
    "def summary_group_num_data(main_df, add_df, col_name=str, how='left', on=['account_id'], validate='one_to_many', by=\"account_id\", high_freq=False):\n",
    "    t = pd.merge(main_df, add_df, how=how, on=on, validate=validate)\n",
    "    if high_freq:\n",
    "        tt = t.groupby(by=by)[col_name].agg([min, max, np.var, percentile(25), percentile(50), percentile(75), sum]).reset_index()       \n",
    "    else:\n",
    "        tt = t.groupby(by=by)[col_name].agg([min, max, sum]).reset_index()\n",
    "\n",
    "    tt['mean'] = t.groupby(by=by)[col_name].mean().reset_index(drop=True)\n",
    "    tt['count'] = t.groupby(by=by)[col_name].count().reset_index(drop=True)\n",
    "\n",
    "    return tt\n"
   ]
  },
  {
   "cell_type": "code",
   "execution_count": null,
   "metadata": {},
   "outputs": [],
   "source": [
    "loan_df_ = add_prefix_to_colnames(loan_df, prefix='loan_')\n",
    "print(loan_df_.shape)\n",
    "loan_df_.head()"
   ]
  },
  {
   "cell_type": "code",
   "execution_count": null,
   "metadata": {},
   "outputs": [],
   "source": [
    "loan_df_.to_csv('table_csv/loan.csv', index=False)"
   ]
  },
  {
   "cell_type": "code",
   "execution_count": null,
   "metadata": {},
   "outputs": [],
   "source": [
    "account_df.loc[account_df['frequency']==\"POPLATEK MESICNE\", 'frequency'] = 'monthly'\n",
    "account_df.loc[account_df['frequency']==\"POPLATEK TYDNE\", 'frequency'] = 'weekly'\n",
    "account_df.loc[account_df['frequency']==\"POPLATEK PO OBRATU\", 'frequency'] = 'after_transaction'\n",
    "account_df.head()"
   ]
  },
  {
   "cell_type": "code",
   "execution_count": null,
   "metadata": {},
   "outputs": [],
   "source": [
    "account_df_ = add_prefix_to_colnames(account_df, prefix='acc_')\n",
    "print(account_df_.shape)\n",
    "account_df_.head()"
   ]
  },
  {
   "cell_type": "code",
   "execution_count": null,
   "metadata": {},
   "outputs": [],
   "source": [
    "account_df_.to_csv('table_csv/account.csv', index=False)"
   ]
  },
  {
   "cell_type": "code",
   "execution_count": null,
   "metadata": {},
   "outputs": [],
   "source": [
    "def day_to_int(day_serie):\n",
    "    return np.array([d.days for d in day_serie]).astype('float')"
   ]
  },
  {
   "cell_type": "code",
   "execution_count": null,
   "metadata": {},
   "outputs": [],
   "source": [
    "df = pd.merge(loan_df_, account_df_, how='left', on=['account_id'])\n",
    "df['day_before_loan'] = df['loan_date'] - df['acc_date']\n",
    "df['day_before_loan'] = day_to_int(df['day_before_loan'])\n",
    "df = df.drop(['acc_date'], axis=1)\n",
    "print(df.shape)\n",
    "df.head()"
   ]
  },
  {
   "cell_type": "code",
   "execution_count": null,
   "metadata": {},
   "outputs": [],
   "source": [
    "account_loan = loan_df[['account_id']]\n",
    "account_loan = account_loan.values.reshape((682))\n",
    "account_loan.shape"
   ]
  },
  {
   "cell_type": "markdown",
   "metadata": {},
   "source": [
    "## order manipulation"
   ]
  },
  {
   "cell_type": "markdown",
   "metadata": {},
   "source": [
    "due to 1 account can have more order. So, we need to manipulate order values \n",
    "\n",
    "such as \n",
    "\n",
    "amount -> min, max, sum, mean, count\n",
    "\n",
    "k_symbol -> onehot -> sum"
   ]
  },
  {
   "cell_type": "code",
   "execution_count": null,
   "metadata": {},
   "outputs": [],
   "source": [
    "order_df.head()"
   ]
  },
  {
   "cell_type": "markdown",
   "metadata": {},
   "source": [
    "order_df there are \"spacing\". so, we add NaN."
   ]
  },
  {
   "cell_type": "code",
   "execution_count": null,
   "metadata": {},
   "outputs": [],
   "source": [
    "order_df['k_symbol'].value_counts()"
   ]
  },
  {
   "cell_type": "code",
   "execution_count": null,
   "metadata": {},
   "outputs": [],
   "source": [
    "order_df = order_df.replace(\"\", np.nan)\n",
    "order_df['k_symbol'].value_counts()"
   ]
  },
  {
   "cell_type": "code",
   "execution_count": null,
   "metadata": {},
   "outputs": [],
   "source": [
    "order_df.loc[order_df['k_symbol']==\"POJISTNE\", 'k_symbol'] = 'insurrance'\n",
    "order_df.loc[order_df['k_symbol']==\"SIPO\", 'k_symbol'] = 'household'\n",
    "order_df.loc[order_df['k_symbol']==\"LEASING\", 'k_symbol'] = 'leasing'\n",
    "order_df.loc[order_df['k_symbol']==\"UVER\", 'k_symbol'] = 'loan'\n",
    "\n",
    "# print(order_df.shape)\n",
    "order_df.head()"
   ]
  },
  {
   "cell_type": "code",
   "execution_count": null,
   "metadata": {},
   "outputs": [],
   "source": [
    "add_prefix_to_colnames(order_df, prefix='order_').to_csv('table_csv/order.csv', index=False)"
   ]
  },
  {
   "cell_type": "markdown",
   "metadata": {},
   "source": [
    "drop k_symbol nan because we don't know what k_symbol it is."
   ]
  },
  {
   "cell_type": "code",
   "execution_count": null,
   "metadata": {},
   "outputs": [],
   "source": [
    "order_df = order_df[order_df['k_symbol'].notna()]\n",
    "order_df.head()"
   ]
  },
  {
   "cell_type": "markdown",
   "metadata": {},
   "source": [
    "k_symbol onehot encoding\n",
    "\n",
    "this tells us, each account have had monthly payment in each k_symbol."
   ]
  },
  {
   "cell_type": "code",
   "execution_count": null,
   "metadata": {},
   "outputs": [],
   "source": [
    "order_df_ = onehot(order_df, col_name='k_symbol', prefix='monthly_payment_for')\n",
    "order_df_.head()"
   ]
  },
  {
   "cell_type": "markdown",
   "metadata": {},
   "source": [
    "multiple each k_symbol with its amount. because this tells us each mont the account need to pay hoiw much. not just have had pay for what."
   ]
  },
  {
   "cell_type": "code",
   "execution_count": null,
   "metadata": {},
   "outputs": [],
   "source": [
    "order_df_['monthly_payment_for_household'] = order_df_['monthly_payment_for_household'] * order_df_['amount'] \n",
    "order_df_['monthly_payment_for_insurrance'] = order_df_['monthly_payment_for_insurrance'] * order_df_['amount'] \n",
    "order_df_['monthly_payment_for_leasing'] = order_df_['monthly_payment_for_leasing'] * order_df_['amount'] \n",
    "order_df_['monthly_payment_for_loan'] = order_df_['monthly_payment_for_loan'] * order_df_['amount']\n",
    "order_df_.head()"
   ]
  },
  {
   "cell_type": "markdown",
   "metadata": {},
   "source": [
    "Drop bank_to, account_to, k_symbol"
   ]
  },
  {
   "cell_type": "code",
   "execution_count": null,
   "metadata": {},
   "outputs": [],
   "source": [
    "order_df_ = order_df_.drop(['order_id', 'bank_to', 'account_to', 'amount'], axis=1)\n",
    "order_df_.head()"
   ]
  },
  {
   "cell_type": "code",
   "execution_count": null,
   "metadata": {},
   "outputs": [],
   "source": [
    "order_df_ = add_prefix_to_colnames(order_df_, prefix='order_')\n",
    "order_df_.head()"
   ]
  },
  {
   "cell_type": "markdown",
   "metadata": {},
   "source": [
    "Order -> useless เพราะ k_symbol ของ transaction ละเอียดกว่า"
   ]
  },
  {
   "cell_type": "code",
   "execution_count": null,
   "metadata": {},
   "outputs": [],
   "source": [
    "# df = pd.merge(df, order_df_, how='left', on=['account_id'])\n",
    "# df = pd.merge(df, order_ksymbol, how='left', on=['account_id'])\n",
    "df"
   ]
  },
  {
   "cell_type": "markdown",
   "metadata": {},
   "source": [
    "## Transaction"
   ]
  },
  {
   "cell_type": "code",
   "execution_count": null,
   "metadata": {},
   "outputs": [],
   "source": [
    "summary_df(trans_df)"
   ]
  },
  {
   "cell_type": "markdown",
   "metadata": {},
   "source": [
    "replace None (null values), spacing with NaN"
   ]
  },
  {
   "cell_type": "code",
   "execution_count": null,
   "metadata": {},
   "outputs": [],
   "source": [
    "# check values not in list (show spacing)\n",
    "trans_df.loc[~trans_df['k_symbol'].isin([\"POJISTNE\", \"SLUZBY\", \"UROK\", \"SANKC. UROK\", \"SIPO\", \"DUCHOD\", \"UVER\", np.nan]) , :]"
   ]
  },
  {
   "cell_type": "code",
   "execution_count": null,
   "metadata": {},
   "outputs": [],
   "source": [
    "# fill spacing with nan\n",
    "trans_df = trans_df.replace(' ', np.nan)\n",
    "# check\n",
    "trans_df.loc[~trans_df['k_symbol'].isin([\"POJISTNE\", \"SLUZBY\", \"UROK\", \"SANKC. UROK\", \"SIPO\", \"DUCHOD\", \"UVER\", np.nan]) , :]"
   ]
  },
  {
   "cell_type": "code",
   "execution_count": null,
   "metadata": {},
   "outputs": [],
   "source": [
    "# fill None with nan\n",
    "trans_df = trans_df.fillna(value=np.nan)\n",
    "trans_df"
   ]
  },
  {
   "cell_type": "markdown",
   "metadata": {},
   "source": [
    "type have class \"PRIJEM\", \"VYDAJ\". Also \"VYBER\" (not show in https://web.archive.org/web/20180506035658/http://lisp.vse.cz/pkdd99/Challenge/berka.htm)\n",
    "\n",
    "include \"VYBER\" to \"VYDAJ\" as withdrawal."
   ]
  },
  {
   "cell_type": "code",
   "execution_count": null,
   "metadata": {},
   "outputs": [],
   "source": [
    "trans_df['type'].value_counts()"
   ]
  },
  {
   "cell_type": "code",
   "execution_count": null,
   "metadata": {},
   "outputs": [],
   "source": [
    "trans_df['operation'].value_counts()"
   ]
  },
  {
   "cell_type": "code",
   "execution_count": null,
   "metadata": {},
   "outputs": [],
   "source": [
    "trans_df['k_symbol'].value_counts()"
   ]
  },
  {
   "cell_type": "code",
   "execution_count": null,
   "metadata": {},
   "outputs": [],
   "source": [
    "trans_df = trans_df.sort_values(by=['account_id', 'date'])\n",
    "trans_df = trans_df.copy()\n",
    "# type\n",
    "trans_df.loc[trans_df['type']==\"PRIJEM\", 'type'] = 'credit'\n",
    "trans_df.loc[trans_df['type']==\"VYDAJ\", 'type'] = 'withdrawal'\n",
    "trans_df.loc[trans_df['type']==\"VYBER\", 'type'] = 'withdrawal'\n",
    "\n",
    "# operation\n",
    "trans_df.loc[trans_df['operation']==\"VYBER KARTOU\", 'operation'] = 'credit_card_withdrawal'\n",
    "trans_df.loc[trans_df['operation']==\"VKLAD\", 'operation'] = 'credit_in_cash'\n",
    "trans_df.loc[trans_df['operation']==\"PREVOD Z UCTU\", 'operation'] = 'collection_from_anotherbank'\n",
    "trans_df.loc[trans_df['operation']==\"VYBER\", 'operation'] = 'withdrawal_in_cash'\n",
    "trans_df.loc[trans_df['operation']==\"PREVOD NA UCET\", 'operation'] = 'remittance_to_anotherbank'\n",
    "\n",
    "# k_symbol\n",
    "trans_df.loc[trans_df['k_symbol']==\"POJISTNE\", 'k_symbol'] = 'insurrance'\n",
    "trans_df.loc[trans_df['k_symbol']==\"SLUZBY\", 'k_symbol'] = 'payment_for_statement'\n",
    "trans_df.loc[trans_df['k_symbol']==\"UROK\", 'k_symbol'] = 'interest_credited'\n",
    "trans_df.loc[trans_df['k_symbol']==\"SANKC. UROK\", 'k_symbol'] = 'sanction_interest_neg_bal'\n",
    "trans_df.loc[trans_df['k_symbol']==\"SIPO\", 'k_symbol'] = 'household'\n",
    "trans_df.loc[trans_df['k_symbol']==\"DUCHOD\", 'k_symbol'] = 'old-age_pension'\n",
    "trans_df.loc[trans_df['k_symbol']==\"UVER\", 'k_symbol'] = 'loan'\n",
    "\n",
    "trans_df"
   ]
  },
  {
   "cell_type": "code",
   "execution_count": null,
   "metadata": {},
   "outputs": [],
   "source": [
    "add_prefix_to_colnames(trans_df, prefix='trans_').to_csv('table_csv/transaction.csv', index=False)"
   ]
  },
  {
   "cell_type": "markdown",
   "metadata": {},
   "source": [
    "money in, money out"
   ]
  },
  {
   "cell_type": "code",
   "execution_count": null,
   "metadata": {},
   "outputs": [],
   "source": [
    "trans_df_in = trans_df.copy()\n",
    "trans_df_out = trans_df.copy()"
   ]
  },
  {
   "cell_type": "code",
   "execution_count": null,
   "metadata": {},
   "outputs": [],
   "source": [
    "def money_in_out(df, focus_colname, cond_colname='type', in_colname='credit', out_colname='withdrawal'):\n",
    "    money_in = df[df[cond_colname] == in_colname][focus_colname]\n",
    "    money_out = df[df[cond_colname] == out_colname][focus_colname]\n",
    "\n",
    "    return [money_in, money_out]\n",
    "\n",
    "trans_df_out.loc[trans_df_out['type'] == 'credit', 'amount_in'] = money_in_out(trans_df_in, focus_colname='amount')[0] # trans_df_before_loan[trans_df_before_loan['type'] == 'credit']['amount']\n",
    "trans_df_out.loc[trans_df_out['type'] == 'withdrawal', 'amount_out'] = money_in_out(trans_df_in, focus_colname='amount')[1]\n",
    "# replace amount in out nan with 0\n",
    "trans_df_out = trans_df_out.replace(np.nan, 0)\n",
    "trans_df_out"
   ]
  },
  {
   "cell_type": "markdown",
   "metadata": {},
   "source": [
    "Focus only transaction before loan"
   ]
  },
  {
   "cell_type": "code",
   "execution_count": null,
   "metadata": {},
   "outputs": [],
   "source": [
    "trans_df_in = trans_df_out.copy()\n",
    "trans_df_in.head()"
   ]
  },
  {
   "cell_type": "code",
   "execution_count": null,
   "metadata": {},
   "outputs": [],
   "source": [
    "trans_df_in = trans_df_in.drop(['trans_id', 'bank', 'account'], axis=1)"
   ]
  },
  {
   "cell_type": "code",
   "execution_count": null,
   "metadata": {},
   "outputs": [],
   "source": [
    "trans_df_before_loan = pd.merge(trans_df_in, loan_df_[['account_id', 'loan_date']], how='left', on='account_id')\n",
    "trans_df_before_loan['day_after_loan'] = day_to_int(trans_df_before_loan['loan_date'] - trans_df_before_loan['date'])\n",
    "\n",
    "# after loan\n",
    "trans_df_after_loan = trans_df_before_loan[trans_df_before_loan['day_after_loan']<=0]\n",
    "# before loan\n",
    "trans_df_before_loan = trans_df_before_loan[trans_df_before_loan['day_after_loan']>0]\n",
    "\n",
    "# trans_df_before_loan = trans_df_before_loan.drop(['day_after_loan', 'loan_date'], axis=1)\n",
    "print(trans_df_before_loan.shape)\n",
    "trans_df_before_loan.head()"
   ]
  },
  {
   "cell_type": "code",
   "execution_count": null,
   "metadata": {},
   "outputs": [],
   "source": [
    "# trans_df_after_loan = trans_df_after_loan.drop(['day_after_loan', 'loan_date'], axis=1)\n",
    "print(trans_df_after_loan.shape)\n",
    "trans_df_after_loan.head()"
   ]
  },
  {
   "cell_type": "code",
   "execution_count": null,
   "metadata": {},
   "outputs": [],
   "source": [
    "print(trans_df_before_loan['type'].value_counts(), '\\n')\n",
    "print(trans_df_before_loan['operation'].value_counts(), '\\n')\n",
    "print(trans_df_before_loan['k_symbol'].value_counts(), '\\n')"
   ]
  },
  {
   "cell_type": "code",
   "execution_count": null,
   "metadata": {},
   "outputs": [],
   "source": [
    "print(trans_df_after_loan['type'].value_counts(), '\\n')\n",
    "print(trans_df_after_loan['operation'].value_counts(), '\\n')\n",
    "print(trans_df_after_loan['k_symbol'].value_counts(), '\\n')"
   ]
  },
  {
   "cell_type": "code",
   "execution_count": null,
   "metadata": {},
   "outputs": [],
   "source": [
    "trans_df_out = trans_df_before_loan.copy()"
   ]
  },
  {
   "cell_type": "code",
   "execution_count": null,
   "metadata": {},
   "outputs": [],
   "source": [
    "trans_df_out['type'].value_counts()"
   ]
  },
  {
   "cell_type": "markdown",
   "metadata": {},
   "source": [
    "k_symbol"
   ]
  },
  {
   "cell_type": "code",
   "execution_count": null,
   "metadata": {},
   "outputs": [],
   "source": [
    "trans_df_in = trans_df_out.copy()"
   ]
  },
  {
   "cell_type": "code",
   "execution_count": null,
   "metadata": {},
   "outputs": [],
   "source": [
    "trans_df_in['operation'].fillna('Others', inplace=True)\n",
    "trans_df_in['k_symbol'].fillna('Others', inplace=True)\n",
    "trans_df_in.head()"
   ]
  },
  {
   "cell_type": "code",
   "execution_count": null,
   "metadata": {},
   "outputs": [],
   "source": [
    "plt.figure(figsize=(10,5))\n",
    "plt.subplot(1, 2, 1)\n",
    "plt.title('operation')\n",
    "trans_df_in['operation'].value_counts().plot(kind='bar')\n",
    "plt.subplot(1, 2, 2)\n",
    "plt.title('k_symbol')\n",
    "trans_df_in['k_symbol'].value_counts().plot(kind='bar')\n",
    "plt.show()"
   ]
  },
  {
   "cell_type": "code",
   "execution_count": null,
   "metadata": {},
   "outputs": [],
   "source": [
    "trans_df_in[trans_df_in['type']=='credit']['operation'].value_counts()"
   ]
  },
  {
   "cell_type": "code",
   "execution_count": null,
   "metadata": {},
   "outputs": [],
   "source": [
    "import seaborn as sns"
   ]
  },
  {
   "cell_type": "code",
   "execution_count": null,
   "metadata": {},
   "outputs": [],
   "source": [
    "sns.countplot(data=trans_df_in, x='type', hue='operation')\n",
    "plt.show()"
   ]
  },
  {
   "cell_type": "code",
   "execution_count": null,
   "metadata": {},
   "outputs": [],
   "source": [
    "sns.countplot(data=trans_df_in, x='type', hue='k_symbol')\n",
    "plt.show()"
   ]
  },
  {
   "cell_type": "code",
   "execution_count": null,
   "metadata": {},
   "outputs": [],
   "source": [
    "plt.figure(figsize=(20, 5))\n",
    "sns.countplot(data=trans_df_in, x='operation', hue='k_symbol')\n",
    "plt.show()"
   ]
  },
  {
   "cell_type": "markdown",
   "metadata": {},
   "source": [
    "operation categorical is not importance. So, we don't care operation. only focus on k_symbol."
   ]
  },
  {
   "cell_type": "code",
   "execution_count": null,
   "metadata": {},
   "outputs": [],
   "source": [
    "trans_df_out = trans_df_in.copy()"
   ]
  },
  {
   "cell_type": "markdown",
   "metadata": {},
   "source": [
    "ที่ต้องจ่ายรายเดือน (k_symbol) \n",
    "\n",
    "แต่ละ account \n",
    "\n",
    "* เคยจ่ายค่าอะไรบ้าง แต่ละอันจ่ายไปแล้วเท่าไหร่ Done\n",
    "* เคยผ่อนสำเร็จมั้ย เคยเบี้ยวไม่จ่ายมั้ย เหลืออีกกี่บาทที่ต้องจ่าย ? \n",
    "* ปัจจุบันต้องจ่ายค่าอะไร ต่อเดือนเท่าไหร่ Done\n",
    "* เคยถูก sanction มาแล้วกี่ครั้ง Done"
   ]
  },
  {
   "cell_type": "markdown",
   "metadata": {},
   "source": [
    "focus only monthly transaction."
   ]
  },
  {
   "cell_type": "code",
   "execution_count": null,
   "metadata": {},
   "outputs": [],
   "source": [
    "trans_df_in = trans_df_out[trans_df_out['k_symbol']!='Others']\n",
    "trans_df_in"
   ]
  },
  {
   "cell_type": "code",
   "execution_count": null,
   "metadata": {},
   "outputs": [],
   "source": [
    "trans_df_ = trans_df_in.copy()"
   ]
  },
  {
   "cell_type": "code",
   "execution_count": null,
   "metadata": {},
   "outputs": [],
   "source": [
    "# onehot\n",
    "trans_df_ = onehot(trans_df_, col_name='k_symbol', prefix='out',drop=False)\n",
    "trans_df_ = trans_df_.rename(columns={'out_interest_credited':'in_interest_credited'})\n",
    "trans_df_.head()"
   ]
  },
  {
   "cell_type": "code",
   "execution_count": null,
   "metadata": {},
   "outputs": [],
   "source": [
    "out_trans = ['out_household', 'out_insurrance', 'out_payment_for_statement', 'out_sanction_interest_neg_bal']\n",
    "# count sanction if neg balance. \n",
    "trans_df_['count_out_sanction_interest_neg_bal'] = trans_df_['out_sanction_interest_neg_bal']\n",
    "\n",
    "trans_df_.loc[:, out_trans] = trans_df_[out_trans].multiply(trans_df_[\"amount_out\"], axis=0)\n",
    "\n",
    "\n",
    "trans_df_.loc[:, 'in_interest_credited'] = trans_df_['in_interest_credited'].multiply(trans_df_[\"amount_in\"], axis=0)\n",
    "trans_df_"
   ]
  },
  {
   "cell_type": "code",
   "execution_count": null,
   "metadata": {},
   "outputs": [],
   "source": [
    "trans_df_[trans_df_['out_sanction_interest_neg_bal']>0].head()"
   ]
  },
  {
   "cell_type": "code",
   "execution_count": null,
   "metadata": {},
   "outputs": [],
   "source": [
    "trans_monthly_payment = trans_df_.loc[:, ['account_id', 'amount', 'amount_in', 'amount_out', 'out_household', 'out_insurrance', 'in_interest_credited', 'out_payment_for_statement', 'out_sanction_interest_neg_bal', 'count_out_sanction_interest_neg_bal']].copy()\n",
    "trans_monthly_payment = trans_monthly_payment.groupby(by='account_id').sum().reset_index()\n",
    "\n",
    "trans_monthly_payment['count_monthly_trans'] = trans_df_.groupby(by='account_id', as_index=False).count()['amount']\n",
    "\n",
    "trans_monthly_payment = add_prefix_to_colnames(trans_monthly_payment, prefix='sum_monthly_payment_')\n",
    "trans_monthly_payment = trans_monthly_payment.rename(columns={'sum_monthly_payment_count_monthly_trans':'count_monthly_payment_trans', 'sum_monthly_payment_count_out_sanction_interest_neg_bal':'count_out_sanction_interest_neg_bal'})\n",
    "trans_monthly_payment"
   ]
  },
  {
   "cell_type": "code",
   "execution_count": null,
   "metadata": {},
   "outputs": [],
   "source": [
    "trans_df_['last_month'] = trans_df_['loan_date'] - pd.Timedelta(days=31)"
   ]
  },
  {
   "cell_type": "code",
   "execution_count": null,
   "metadata": {},
   "outputs": [],
   "source": [
    "current_monthly_payment = trans_df_[day_to_int(trans_df_['date']-trans_df_['last_month']) >= 0][['date', 'account_id', 'amount_out', 'out_household', 'out_insurrance', 'out_payment_for_statement', 'in_interest_credited']]\n",
    "current_monthly_payment = current_monthly_payment.groupby(by='account_id', as_index=False).sum()\n",
    "current_monthly_payment = add_prefix_to_colnames(current_monthly_payment, prefix='current_monthly_payment_')\n",
    "current_monthly_payment"
   ]
  },
  {
   "cell_type": "code",
   "execution_count": null,
   "metadata": {},
   "outputs": [],
   "source": [
    "trans_monthly_payment_summary = pd.merge(trans_monthly_payment, current_monthly_payment, how='left', on=['account_id'])\n",
    "trans_monthly_payment_summary"
   ]
  },
  {
   "cell_type": "code",
   "execution_count": null,
   "metadata": {},
   "outputs": [],
   "source": [
    "df.isna().any()"
   ]
  },
  {
   "cell_type": "code",
   "execution_count": null,
   "metadata": {},
   "outputs": [],
   "source": [
    "pd.merge(df, trans_monthly_payment_summary, how='left', on=['account_id']).isna().any()"
   ]
  },
  {
   "cell_type": "code",
   "execution_count": null,
   "metadata": {},
   "outputs": [],
   "source": [
    "# replace NaN with zero.\n",
    "df = pd.merge(df, trans_monthly_payment_summary, how='left', on=['account_id'])\n",
    "df = df.replace(np.nan, 0)\n",
    "df.isna().any()"
   ]
  },
  {
   "cell_type": "code",
   "execution_count": null,
   "metadata": {},
   "outputs": [],
   "source": [
    "df.to_csv('incloud_monthly_trans.csv', index=False)"
   ]
  },
  {
   "cell_type": "markdown",
   "metadata": {},
   "source": [
    "divide transaction amount sum, count with day before loan"
   ]
  },
  {
   "cell_type": "code",
   "execution_count": null,
   "metadata": {},
   "outputs": [],
   "source": [
    "t = df.copy()"
   ]
  },
  {
   "cell_type": "code",
   "execution_count": null,
   "metadata": {},
   "outputs": [],
   "source": [
    "t_list = ['sum_monthly_payment_amount', 'sum_monthly_payment_amount_in', 'sum_monthly_payment_amount_out', 'sum_monthly_payment_out_household','sum_monthly_payment_out_insurrance','sum_monthly_payment_in_interest_credited','sum_monthly_payment_out_payment_for_statement','sum_monthly_payment_out_sanction_interest_neg_bal','count_out_sanction_interest_neg_bal', 'count_monthly_payment_trans','current_monthly_payment_amount_out','current_monthly_payment_out_household','current_monthly_payment_out_insurrance','current_monthly_payment_out_payment_for_statement','current_monthly_payment_in_interest_credited']\n",
    "t.loc[:, t_list] = t[t_list].div(t['day_before_loan'], axis=0)"
   ]
  },
  {
   "cell_type": "code",
   "execution_count": null,
   "metadata": {},
   "outputs": [],
   "source": [
    "t.to_csv('incloud_monthly_trans_normbyday.csv', index=False)"
   ]
  },
  {
   "cell_type": "markdown",
   "metadata": {},
   "source": [
    "การใช้จ่ายอื่น ๆ (ที่ไม่ใช่จ่ายรายเดือนใน k_symbol)"
   ]
  },
  {
   "cell_type": "code",
   "execution_count": null,
   "metadata": {},
   "outputs": [],
   "source": [
    "trans_df_before_loan"
   ]
  },
  {
   "cell_type": "code",
   "execution_count": null,
   "metadata": {},
   "outputs": [],
   "source": []
  },
  {
   "cell_type": "code",
   "execution_count": null,
   "metadata": {},
   "outputs": [],
   "source": [
    "trans_df_drop = trans_df_.drop(['trans_id', 'bank', 'account'], axis=1)\n",
    "trans_df_drop.head()"
   ]
  },
  {
   "cell_type": "markdown",
   "metadata": {},
   "source": [
    "date data -> \n",
    "\n",
    "find max, min date in each account_id and find duration. บอกระยะเวลาที่ใช้บัตรทำ transaction ตั้งแต่แรกยันล่าสุด"
   ]
  },
  {
   "cell_type": "code",
   "execution_count": null,
   "metadata": {},
   "outputs": [],
   "source": [
    "trans_df_drop['date'] = pd.to_datetime(trans_df_drop['date'], format='%Y-%m-%d')\n",
    "trans_date = trans_df_drop.groupby(by='account_id').agg([min, max])['date'].reset_index()\n",
    "\n",
    "\n",
    "trans_date['duration'] = trans_date['max'] - trans_date['min']\n",
    "trans_date = add_prefix_to_colnames(trans_date, prefix='date_')\n",
    "\n",
    "trans_date.head()"
   ]
  },
  {
   "cell_type": "markdown",
   "metadata": {},
   "source": [
    "Numerical data \n",
    "\n",
    "amount, balance -> min, max, sum, mean, count"
   ]
  },
  {
   "cell_type": "code",
   "execution_count": null,
   "metadata": {},
   "outputs": [],
   "source": [
    "trans_df_ = trans_df_drop.copy()\n",
    "trans_df_.head()"
   ]
  },
  {
   "cell_type": "code",
   "execution_count": null,
   "metadata": {},
   "outputs": [],
   "source": [
    "trans_amount_df = summary_group_num_data(df, trans_df_, 'amount', high_freq=True)\n",
    "trans_amount_df = add_prefix_to_colnames(trans_amount_df, prefix='amount_')\n",
    "\n",
    "trans_balance_df = summary_group_num_data(df, trans_df_, 'balance', high_freq=True)\n",
    "trans_balance_df = add_prefix_to_colnames(trans_balance_df, prefix='balance_')\n",
    "\n",
    "trans_numm_data_df = pd.merge(trans_amount_df, trans_balance_df, on='account_id')\n",
    "\n",
    "print(trans_numm_data_df.shape)\n",
    "trans_numm_data_df.head()"
   ]
  },
  {
   "cell_type": "markdown",
   "metadata": {},
   "source": [
    "Cateforical data\n",
    "\n",
    "type, operation, k_symbol -> onehot -> sum"
   ]
  },
  {
   "cell_type": "code",
   "execution_count": null,
   "metadata": {},
   "outputs": [],
   "source": [
    "trans_df_.head()"
   ]
  },
  {
   "cell_type": "code",
   "execution_count": null,
   "metadata": {},
   "outputs": [],
   "source": [
    "cate_data_names = trans_df_.columns.to_list()[4:]\n",
    "print(len(cate_data_names))\n",
    "cate_data_names"
   ]
  },
  {
   "cell_type": "code",
   "execution_count": null,
   "metadata": {},
   "outputs": [],
   "source": [
    "trans_cate_data_df = summary_group_cate_data(df, trans_df_, col_names=cate_data_names)\n",
    "print(trans_cate_data_df.shape)\n",
    "trans_cate_data_df.head()"
   ]
  },
  {
   "cell_type": "code",
   "execution_count": null,
   "metadata": {},
   "outputs": [],
   "source": [
    "trans_date"
   ]
  },
  {
   "cell_type": "code",
   "execution_count": null,
   "metadata": {},
   "outputs": [],
   "source": [
    "trans_df_final = pd.merge(trans_date, trans_numm_data_df, how='right', on=['account_id'], validate='one_to_many')\n",
    "trans_df_final = pd.merge(trans_df_final, trans_cate_data_df, how='left', on=['account_id'])\n",
    "\n",
    "trans_df_final.head()"
   ]
  },
  {
   "cell_type": "code",
   "execution_count": null,
   "metadata": {},
   "outputs": [],
   "source": [
    "trans_df_final_ = add_prefix_to_colnames(trans_df_final, prefix='trans_')\n",
    "trans_df_final_.head()"
   ]
  },
  {
   "cell_type": "code",
   "execution_count": null,
   "metadata": {},
   "outputs": [],
   "source": [
    "df = pd.merge(df, trans_df_final_, how='left', on=['account_id'])\n",
    "summary_df(df)"
   ]
  },
  {
   "cell_type": "markdown",
   "metadata": {},
   "source": [
    "# Disp & Client & Card"
   ]
  },
  {
   "cell_type": "code",
   "execution_count": null,
   "metadata": {},
   "outputs": [],
   "source": [
    "summary_df(disp_df)\n",
    "summary_df(client_df)\n",
    "summary_df(card_df)"
   ]
  },
  {
   "cell_type": "code",
   "execution_count": null,
   "metadata": {},
   "outputs": [],
   "source": [
    "dcc_df = pd.merge(disp_df, client_df, how='left', on='client_id')\n",
    "dcc_df = pd.merge(dcc_df, card_df, how='left', on='disp_id')\n",
    "\n",
    "dcc_df = dcc_df.rename(columns={'type_x': 'client_type', 'type_y':'card_type', 'issued':'card_issued'})\n",
    "dcc_df.head()"
   ]
  },
  {
   "cell_type": "markdown",
   "metadata": {},
   "source": [
    "birth_date -> age"
   ]
  },
  {
   "cell_type": "code",
   "execution_count": null,
   "metadata": {},
   "outputs": [],
   "source": [
    "# lastest transaction in database\n",
    "trans_date['date_max'].max()"
   ]
  },
  {
   "cell_type": "code",
   "execution_count": null,
   "metadata": {},
   "outputs": [],
   "source": [
    "dcc_df['birth_date'] = pd.to_datetime(dcc_df['birth_date'], format='%Y-%m-%d')\n",
    "today = pd.to_datetime(\"1999-01-01\", format='%Y-%m-%d')\n",
    "dcc_df['age'] = [today.year - d.year for d in dcc_df['birth_date']]\n",
    "dcc_df = dcc_df.drop(['disp_id', 'birth_date', 'district_id', 'card_id'], axis=1)\n",
    "dcc_df"
   ]
  },
  {
   "cell_type": "code",
   "execution_count": null,
   "metadata": {},
   "outputs": [],
   "source": [
    "dcc_df['client_type'].value_counts()"
   ]
  },
  {
   "cell_type": "code",
   "execution_count": null,
   "metadata": {},
   "outputs": [],
   "source": [
    "dcc_df['gender'].value_counts()"
   ]
  },
  {
   "cell_type": "markdown",
   "metadata": {},
   "source": [
    "client_id is unique. So, there is no more client in 1 account.\n",
    "\n",
    "only have 1 account more client."
   ]
  },
  {
   "cell_type": "code",
   "execution_count": null,
   "metadata": {},
   "outputs": [],
   "source": [
    "dcc_df[dcc_df.duplicated(['client_id'])]"
   ]
  },
  {
   "cell_type": "markdown",
   "metadata": {},
   "source": [
    "only owner can issue permanent orders and ask for a loan"
   ]
  },
  {
   "cell_type": "code",
   "execution_count": null,
   "metadata": {},
   "outputs": [],
   "source": [
    "dcc_df_ = dcc_df[dcc_df['client_type']=='OWNER'].reset_index(drop=True)\n",
    "\n",
    "dcc_df_['all_client_mean_age'] = dcc_df.groupby(by='account_id')['age'].mean().reset_index(drop=True)\n",
    "dcc_df_['all_client_count'] = dcc_df.groupby(by='account_id')['client_id'].count().reset_index(drop=True)\n",
    "dcc_df_"
   ]
  },
  {
   "cell_type": "code",
   "execution_count": null,
   "metadata": {},
   "outputs": [],
   "source": [
    "dcc_df_ = dcc_df_.drop(['client_id', 'client_type', 'card_issued'], axis=1)\n",
    "dcc_df_ = dcc_df_.rename(columns={'gender':'client_gender', 'age':'client_age'})\n",
    "dcc_df_"
   ]
  },
  {
   "cell_type": "code",
   "execution_count": null,
   "metadata": {},
   "outputs": [],
   "source": [
    "dcc_df_final = onehot(dcc_df_, col_name='card_type', prefix='card_type')\n",
    "# dcc_df_final = onehot(dcc_df_, col_name='client_gender', prefix='client_gender')\n",
    "\n",
    "dcc_df_final"
   ]
  },
  {
   "cell_type": "code",
   "execution_count": null,
   "metadata": {},
   "outputs": [],
   "source": [
    "df = pd.merge(df, dcc_df_final, how='left', on='account_id')"
   ]
  },
  {
   "cell_type": "code",
   "execution_count": null,
   "metadata": {},
   "outputs": [],
   "source": [
    "df"
   ]
  },
  {
   "cell_type": "markdown",
   "metadata": {},
   "source": [
    "## district"
   ]
  },
  {
   "cell_type": "code",
   "execution_count": null,
   "metadata": {},
   "outputs": [],
   "source": [
    "district_df"
   ]
  },
  {
   "cell_type": "code",
   "execution_count": null,
   "metadata": {},
   "outputs": [],
   "source": [
    "selected_district_feature = ['district_id', 'A4', 'A10', 'A11', 'A14']\n",
    "district_df_ = district_df[selected_district_feature]\n",
    "district_df_.loc[district_df_.index, ['unemploy_rate']] = district_df[['A12', 'A13']].mean(axis=1)\n",
    "district_df_.loc[district_df_.index, ['number_crimes']] = district_df[['A15', 'A16']].mean(axis=1)\n",
    "district_df_.loc[district_df_.index, ['A10']] = district_df_['A10'] / 100\n",
    "\n",
    "district_df_ = district_df_.rename(columns={'A4':'num_inhabitants', 'A10':'urban_rate', 'A11':'avg_salary', 'A14':'num_enterpreneurs_per1000inhabitants'})\n",
    "district_df_"
   ]
  },
  {
   "cell_type": "code",
   "execution_count": null,
   "metadata": {},
   "outputs": [],
   "source": [
    "df = df.rename(columns={'acc_district_id':'district_id'})"
   ]
  },
  {
   "cell_type": "code",
   "execution_count": null,
   "metadata": {},
   "outputs": [],
   "source": [
    "final_df = pd.merge(df, district_df_, how='left', on='district_id')"
   ]
  },
  {
   "cell_type": "code",
   "execution_count": null,
   "metadata": {},
   "outputs": [],
   "source": [
    "final_df.shape"
   ]
  },
  {
   "cell_type": "code",
   "execution_count": null,
   "metadata": {},
   "outputs": [],
   "source": [
    "final_df.to_csv('prepared_data.csv', index=False)"
   ]
  },
  {
   "cell_type": "code",
   "execution_count": null,
   "metadata": {},
   "outputs": [],
   "source": []
  }
 ],
 "metadata": {
  "interpreter": {
   "hash": "059576c37c64fd64b3cf00acab8500714eee138c9693f1de7d4ef0f25b2b6fa6"
  },
  "kernelspec": {
   "display_name": "Python 3.9.7 ('loan_default_pred_venv': venv)",
   "language": "python",
   "name": "python3"
  },
  "language_info": {
   "codemirror_mode": {
    "name": "ipython",
    "version": 3
   },
   "file_extension": ".py",
   "mimetype": "text/x-python",
   "name": "python",
   "nbconvert_exporter": "python",
   "pygments_lexer": "ipython3",
   "version": "3.9.7"
  },
  "orig_nbformat": 4
 },
 "nbformat": 4,
 "nbformat_minor": 2
}
